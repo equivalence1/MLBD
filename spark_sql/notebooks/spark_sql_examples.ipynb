{
 "cells": [
  {
   "cell_type": "markdown",
   "metadata": {},
   "source": [
    "# Spark SQL\n",
    "\n",
    "Before you begin, make sure that you've installed spark of version `2.3` or higher (see `README.md`)\n",
    "\n",
    "**Links**\n",
    "\n",
    "* https://spark.apache.org/docs/latest/sql-getting-started.html"
   ]
  },
  {
   "cell_type": "code",
   "execution_count": 1,
   "metadata": {},
   "outputs": [
    {
     "name": "stdout",
     "output_type": "stream",
     "text": [
      "/workspace/spark_sql/notebooks\r\n",
      "-rw-rw-r-- 1 1000 1002 1.2K Feb  5 08:32 README.md\r\n"
     ]
    }
   ],
   "source": [
    "!pwd && ls -lah | grep README"
   ]
  },
  {
   "cell_type": "code",
   "execution_count": 2,
   "metadata": {},
   "outputs": [
    {
     "name": "stdout",
     "output_type": "stream",
     "text": [
      "Welcome to\r\n",
      "      ____              __\r\n",
      "     / __/__  ___ _____/ /__\r\n",
      "    _\\ \\/ _ \\/ _ `/ __/  '_/\r\n",
      "   /___/ .__/\\_,_/_/ /_/\\_\\   version 2.4.4\r\n",
      "      /_/\r\n",
      "                        \r\n",
      "Using Scala version 2.11.12, OpenJDK 64-Bit Server VM, 1.8.0_242\r\n",
      "Branch \r\n",
      "Compiled by user  on 2019-08-27T21:31:02Z\r\n",
      "Revision \r\n",
      "Url \r\n",
      "Type --help for more information.\r\n"
     ]
    }
   ],
   "source": [
    "!spark-submit --version"
   ]
  },
  {
   "cell_type": "markdown",
   "metadata": {},
   "source": [
    "## Запуск spark"
   ]
  },
  {
   "cell_type": "code",
   "execution_count": 3,
   "metadata": {},
   "outputs": [],
   "source": [
    "%matplotlib inline\n",
    "%config InlineBackend.figure_format ='retina'\n",
    "\n",
    "import os\n",
    "import sys\n",
    "import glob\n",
    "import pickle\n",
    "import seaborn as sns\n",
    "import matplotlib.pyplot as plt\n",
    "\n",
    "import pyspark\n",
    "from pyspark.conf import SparkConf\n",
    "from pyspark.sql import SQLContext\n",
    "from pyspark.sql import SparkSession\n",
    "\n",
    "\n",
    "spark = SparkSession \\\n",
    "    .builder \\\n",
    "    .master('local[*]') \\\n",
    "    .appName(\"spark_sql_examples\") \\\n",
    "    .config(\"spark.executor.memory\", \"10g\") \\\n",
    "    .getOrCreate()\n",
    "\n",
    "sc = spark.sparkContext\n",
    "sqlContext = SQLContext(sc)"
   ]
  },
  {
   "cell_type": "code",
   "execution_count": 4,
   "metadata": {},
   "outputs": [
    {
     "name": "stdout",
     "output_type": "stream",
     "text": [
      "Found 1 items\r\n",
      "drwxr-xr-x   - root supergroup          0 2020-02-04 19:38 data\r\n"
     ]
    }
   ],
   "source": [
    "! hdfs dfs -ls ."
   ]
  },
  {
   "cell_type": "code",
   "execution_count": 6,
   "metadata": {},
   "outputs": [],
   "source": [
    "!hdfs dfs -copyFromLocal ../../data/datalens/data ."
   ]
  },
  {
   "cell_type": "code",
   "execution_count": 17,
   "metadata": {},
   "outputs": [
    {
     "name": "stdout",
     "output_type": "stream",
     "text": [
      "Found 4 items\r\n",
      "-rw-r--r--   1 root supergroup       5577 2020-02-16 11:27 data/ml-1m/README\r\n",
      "-rw-r--r--   1 root supergroup     171308 2020-02-16 11:27 data/ml-1m/movies.dat\r\n",
      "-rw-r--r--   1 root supergroup   24594131 2020-02-16 11:27 data/ml-1m/ratings.dat\r\n",
      "-rw-r--r--   1 root supergroup     134368 2020-02-16 11:27 data/ml-1m/users.dat\r\n"
     ]
    }
   ],
   "source": [
    "!hdfs dfs -ls ./data/ml-1m"
   ]
  },
  {
   "cell_type": "code",
   "execution_count": 10,
   "metadata": {},
   "outputs": [
    {
     "name": "stdout",
     "output_type": "stream",
     "text": [
      "apache_spark  docker\t\t intro\t    spark-2.4.4-bin-hadoop2.6.tgz\r\n",
      "data\t      hadoop_map_reduce  README.md  spark_sql\r\n"
     ]
    }
   ],
   "source": [
    "!ls /workspace"
   ]
  },
  {
   "cell_type": "code",
   "execution_count": 20,
   "metadata": {},
   "outputs": [],
   "source": [
    "# DATA_PATH = './data/ml-1m'\n",
    "DATA_PATH = '/workspace/data/datalens/data/ml-1m'\n",
    "\n",
    "RATINGS_PATH = os.path.join(DATA_PATH, 'ratings.dat')\n",
    "MOVIES_PATH = os.path.join(DATA_PATH, 'movies.dat')\n",
    "TAGS_PATH = os.path.join(DATA_PATH, 'tags.dat')"
   ]
  },
  {
   "cell_type": "markdown",
   "metadata": {},
   "source": [
    "---\n",
    "## DataFrame creation\n",
    "\n",
    "DataFrame можно создать несколькими способами:\n",
    "\n",
    "* из файла\n",
    "* из существующего RDD\n",
    "* из другого DataFrame'a\n",
    "\n",
    "### From file\n",
    "\n",
    "В случае с созданием из csv файла, может понадобится указать схему"
   ]
  },
  {
   "cell_type": "code",
   "execution_count": 34,
   "metadata": {},
   "outputs": [],
   "source": [
    "from pyspark.sql.types import *\n",
    "\n",
    "\n",
    "schema = StructType([\n",
    "    StructField('user_id', IntegerType()),\n",
    "    StructField('movie_id', IntegerType()),\n",
    "    StructField('rating', FloatType()),\n",
    "    StructField('timestamp', IntegerType())\n",
    "])\n",
    "\n",
    "ratings_df = sqlContext.read \\\n",
    "    .format('com.databricks.spark.csv') \\\n",
    "    .schema(schema) \\\n",
    "    .options(header='true', delimiter=':') \\\n",
    "    .load('file:///' + RATINGS_PATH)"
   ]
  },
  {
   "cell_type": "code",
   "execution_count": 35,
   "metadata": {},
   "outputs": [
    {
     "name": "stdout",
     "output_type": "stream",
     "text": [
      "root\n",
      " |-- user_id: integer (nullable = true)\n",
      " |-- movie_id: integer (nullable = true)\n",
      " |-- rating: float (nullable = true)\n",
      " |-- timestamp: integer (nullable = true)\n",
      "\n"
     ]
    }
   ],
   "source": [
    "ratings_df.printSchema()"
   ]
  },
  {
   "cell_type": "code",
   "execution_count": 36,
   "metadata": {},
   "outputs": [
    {
     "data": {
      "text/plain": [
       "[Row(user_id=1, movie_id=1193, rating=5.0, timestamp=978300760),\n",
       " Row(user_id=1, movie_id=661, rating=3.0, timestamp=978302109),\n",
       " Row(user_id=1, movie_id=914, rating=3.0, timestamp=978301968),\n",
       " Row(user_id=1, movie_id=3408, rating=4.0, timestamp=978300275),\n",
       " Row(user_id=1, movie_id=2355, rating=5.0, timestamp=978824291)]"
      ]
     },
     "execution_count": 36,
     "metadata": {},
     "output_type": "execute_result"
    }
   ],
   "source": [
    "ratings_df.take(5)"
   ]
  },
  {
   "cell_type": "markdown",
   "metadata": {},
   "source": [
    "### From RDD\n",
    "\n",
    "Для того чтобы построить DataFrame из RDD нужно у RDD вызвать метод `toDF`.\n",
    "\n",
    "*Remark:* RDD можно получить из DataFrame с помощью аттрибута `rdd`."
   ]
  },
  {
   "cell_type": "code",
   "execution_count": 37,
   "metadata": {},
   "outputs": [],
   "source": [
    "ratings = sc.textFile('file:///' + RATINGS_PATH)"
   ]
  },
  {
   "cell_type": "code",
   "execution_count": 38,
   "metadata": {},
   "outputs": [
    {
     "data": {
      "text/plain": [
       "['userId:movieId:rating:timestamp',\n",
       " '1:1193:5:978300760',\n",
       " '1:661:3:978302109',\n",
       " '1:914:3:978301968',\n",
       " '1:3408:4:978300275']"
      ]
     },
     "execution_count": 38,
     "metadata": {},
     "output_type": "execute_result"
    }
   ],
   "source": [
    "ratings.take(5)"
   ]
  },
  {
   "cell_type": "code",
   "execution_count": 39,
   "metadata": {},
   "outputs": [],
   "source": [
    "from pyspark.sql import Row\n",
    "\n",
    "\n",
    "ratings_df = ratings \\\n",
    "    .map(lambda s: s.split(':')) \\\n",
    "    .filter(lambda arr: arr[0].isdigit()) \\\n",
    "    .map(lambda arr: Row(user_id=int(arr[0]), \n",
    "                         movie_id=int(arr[1]), \n",
    "                         rating=float(arr[2]), \n",
    "                         timestamp=int(arr[3])))\\\n",
    "    .toDF()"
   ]
  },
  {
   "cell_type": "code",
   "execution_count": 40,
   "metadata": {},
   "outputs": [
    {
     "name": "stdout",
     "output_type": "stream",
     "text": [
      "root\n",
      " |-- movie_id: long (nullable = true)\n",
      " |-- rating: double (nullable = true)\n",
      " |-- timestamp: long (nullable = true)\n",
      " |-- user_id: long (nullable = true)\n",
      "\n"
     ]
    }
   ],
   "source": [
    "ratings_df.printSchema()"
   ]
  },
  {
   "cell_type": "markdown",
   "metadata": {},
   "source": [
    "---\n",
    "## DataFrame API"
   ]
  },
  {
   "cell_type": "code",
   "execution_count": 43,
   "metadata": {},
   "outputs": [],
   "source": [
    "import pyspark.sql.functions as F\n",
    "\n",
    "\n",
    "movies_df = sqlContext.read.format(\"com.databricks.spark.csv\") \\\n",
    "    .option(\"delimiter\", \":\") \\\n",
    "    .option(\"header\", \"true\") \\\n",
    "    .option(\"inferSchema\", \"true\") \\\n",
    "    .load('file:///' + MOVIES_PATH)"
   ]
  },
  {
   "cell_type": "code",
   "execution_count": 44,
   "metadata": {},
   "outputs": [
    {
     "name": "stdout",
     "output_type": "stream",
     "text": [
      "root\n",
      " |-- movieId: integer (nullable = true)\n",
      " |-- title: string (nullable = true)\n",
      " |-- genres: string (nullable = true)\n",
      "\n"
     ]
    }
   ],
   "source": [
    "movies_df.printSchema()"
   ]
  },
  {
   "cell_type": "markdown",
   "metadata": {},
   "source": [
    "### Фильмы с наибольшим средним рейтингом\n",
    "\n",
    "Найти 10 фильмов с наибольшим средним рейтингом. Вывести их названия и средний рейтинг.\n",
    "\n",
    "Сравните код ниже с кодом, использующим RDD API (см. `apache_spark/notebooks/spark_examples.ipynb`):\n",
    "\n",
    "```\n",
    "ratings \\\n",
    "    .map(lambda r: (r.movie_id, (r.rating, 1))) \\\n",
    "    .reduceByKey(lambda a, b: (a[0] + b[0], a[1] + b[1])) \\\n",
    "    .mapValues(lambda ratings: ratings[0] / ratings[1]) \\\n",
    "    .join(movies) \\\n",
    "    .sortBy(lambda key_value: key_value[1][0], ascending=False) \\\n",
    "    .take(10)\n",
    "```"
   ]
  },
  {
   "cell_type": "code",
   "execution_count": 45,
   "metadata": {},
   "outputs": [
    {
     "data": {
      "text/plain": [
       "[Row(movie_id=3656, mean_rating=5.0, ratings_count=1, movieId=3656, title='Lured (1947)', genres='Crime'),\n",
       " Row(movie_id=1830, mean_rating=5.0, ratings_count=1, movieId=1830, title='Follow the Bitch (1998)', genres='Comedy'),\n",
       " Row(movie_id=989, mean_rating=5.0, ratings_count=1, movieId=989, title='Schlafes Bruder (Brother of Sleep) (1995)', genres='Drama'),\n",
       " Row(movie_id=3172, mean_rating=5.0, ratings_count=1, movieId=3172, title='Ulysses (Ulisse) (1954)', genres='Adventure'),\n",
       " Row(movie_id=3881, mean_rating=5.0, ratings_count=1, movieId=3881, title='Bittersweet Motel (2000)', genres='Documentary'),\n",
       " Row(movie_id=3280, mean_rating=5.0, ratings_count=1, movieId=3280, title='Baby, The (1973)', genres='Horror'),\n",
       " Row(movie_id=3233, mean_rating=5.0, ratings_count=2, movieId=3233, title='Smashing Time (1967)', genres='Comedy'),\n",
       " Row(movie_id=3382, mean_rating=5.0, ratings_count=1, movieId=3382, title='Song of Freedom (1936)', genres='Drama'),\n",
       " Row(movie_id=3607, mean_rating=5.0, ratings_count=1, movieId=3607, title='One Little Indian (1973)', genres='Comedy|Drama|Western'),\n",
       " Row(movie_id=787, mean_rating=5.0, ratings_count=3, movieId=787, title='Gate of Heavenly Peace, The (1995)', genres='Documentary')]"
      ]
     },
     "execution_count": 45,
     "metadata": {},
     "output_type": "execute_result"
    }
   ],
   "source": [
    "ratings_df \\\n",
    "    .groupby('movie_id') \\\n",
    "    .agg(F.mean('rating').alias('mean_rating'), \n",
    "         F.count('rating').alias('ratings_count')) \\\n",
    "    .join(movies_df, ratings_df['movie_id'] == movies_df['movieId'], how='inner') \\\n",
    "    .sort(F.col('mean_rating').desc()) \\\n",
    "    .take(10)"
   ]
  },
  {
   "cell_type": "markdown",
   "metadata": {},
   "source": [
    "### Фильмы с наибольшим числом оценок\n",
    "\n",
    "Найти 10 фильмов с наибольшим числом оценок. Вывести их названия и число оценок"
   ]
  },
  {
   "cell_type": "code",
   "execution_count": 46,
   "metadata": {},
   "outputs": [],
   "source": [
    "movies_frequency_pdf = ratings_df \\\n",
    "    .groupby('movie_id') \\\n",
    "    .count() \\\n",
    "    .join(movies_df, ratings_df['movie_id'] == movies_df['movieId']) \\\n",
    "    .sort(F.col('count').desc()) \\\n",
    "    .toPandas()"
   ]
  },
  {
   "cell_type": "code",
   "execution_count": 47,
   "metadata": {},
   "outputs": [
    {
     "data": {
      "text/html": [
       "<div>\n",
       "<style scoped>\n",
       "    .dataframe tbody tr th:only-of-type {\n",
       "        vertical-align: middle;\n",
       "    }\n",
       "\n",
       "    .dataframe tbody tr th {\n",
       "        vertical-align: top;\n",
       "    }\n",
       "\n",
       "    .dataframe thead th {\n",
       "        text-align: right;\n",
       "    }\n",
       "</style>\n",
       "<table border=\"1\" class=\"dataframe\">\n",
       "  <thead>\n",
       "    <tr style=\"text-align: right;\">\n",
       "      <th></th>\n",
       "      <th>movie_id</th>\n",
       "      <th>count</th>\n",
       "      <th>movieId</th>\n",
       "      <th>title</th>\n",
       "      <th>genres</th>\n",
       "    </tr>\n",
       "  </thead>\n",
       "  <tbody>\n",
       "    <tr>\n",
       "      <th>0</th>\n",
       "      <td>2858</td>\n",
       "      <td>3428</td>\n",
       "      <td>2858</td>\n",
       "      <td>American Beauty (1999)</td>\n",
       "      <td>Comedy|Drama</td>\n",
       "    </tr>\n",
       "    <tr>\n",
       "      <th>1</th>\n",
       "      <td>260</td>\n",
       "      <td>2991</td>\n",
       "      <td>260</td>\n",
       "      <td>Star Wars</td>\n",
       "      <td>Episode IV - A New Hope (1977)</td>\n",
       "    </tr>\n",
       "    <tr>\n",
       "      <th>2</th>\n",
       "      <td>1196</td>\n",
       "      <td>2990</td>\n",
       "      <td>1196</td>\n",
       "      <td>Star Wars</td>\n",
       "      <td>Episode V - The Empire Strikes Back (1980)</td>\n",
       "    </tr>\n",
       "    <tr>\n",
       "      <th>3</th>\n",
       "      <td>1210</td>\n",
       "      <td>2883</td>\n",
       "      <td>1210</td>\n",
       "      <td>Star Wars</td>\n",
       "      <td>Episode VI - Return of the Jedi (1983)</td>\n",
       "    </tr>\n",
       "    <tr>\n",
       "      <th>4</th>\n",
       "      <td>480</td>\n",
       "      <td>2672</td>\n",
       "      <td>480</td>\n",
       "      <td>Jurassic Park (1993)</td>\n",
       "      <td>Action|Adventure|Sci-Fi</td>\n",
       "    </tr>\n",
       "    <tr>\n",
       "      <th>5</th>\n",
       "      <td>2028</td>\n",
       "      <td>2653</td>\n",
       "      <td>2028</td>\n",
       "      <td>Saving Private Ryan (1998)</td>\n",
       "      <td>Action|Drama|War</td>\n",
       "    </tr>\n",
       "    <tr>\n",
       "      <th>6</th>\n",
       "      <td>589</td>\n",
       "      <td>2649</td>\n",
       "      <td>589</td>\n",
       "      <td>Terminator 2</td>\n",
       "      <td>Judgment Day (1991)</td>\n",
       "    </tr>\n",
       "    <tr>\n",
       "      <th>7</th>\n",
       "      <td>2571</td>\n",
       "      <td>2590</td>\n",
       "      <td>2571</td>\n",
       "      <td>Matrix, The (1999)</td>\n",
       "      <td>Action|Sci-Fi|Thriller</td>\n",
       "    </tr>\n",
       "    <tr>\n",
       "      <th>8</th>\n",
       "      <td>1270</td>\n",
       "      <td>2583</td>\n",
       "      <td>1270</td>\n",
       "      <td>Back to the Future (1985)</td>\n",
       "      <td>Comedy|Sci-Fi</td>\n",
       "    </tr>\n",
       "    <tr>\n",
       "      <th>9</th>\n",
       "      <td>593</td>\n",
       "      <td>2578</td>\n",
       "      <td>593</td>\n",
       "      <td>Silence of the Lambs, The (1991)</td>\n",
       "      <td>Drama|Thriller</td>\n",
       "    </tr>\n",
       "  </tbody>\n",
       "</table>\n",
       "</div>"
      ],
      "text/plain": [
       "   movie_id  count  movieId                             title  \\\n",
       "0      2858   3428     2858            American Beauty (1999)   \n",
       "1       260   2991      260                         Star Wars   \n",
       "2      1196   2990     1196                         Star Wars   \n",
       "3      1210   2883     1210                         Star Wars   \n",
       "4       480   2672      480              Jurassic Park (1993)   \n",
       "5      2028   2653     2028        Saving Private Ryan (1998)   \n",
       "6       589   2649      589                      Terminator 2   \n",
       "7      2571   2590     2571                Matrix, The (1999)   \n",
       "8      1270   2583     1270         Back to the Future (1985)   \n",
       "9       593   2578      593  Silence of the Lambs, The (1991)   \n",
       "\n",
       "                                        genres  \n",
       "0                                 Comedy|Drama  \n",
       "1               Episode IV - A New Hope (1977)  \n",
       "2   Episode V - The Empire Strikes Back (1980)  \n",
       "3       Episode VI - Return of the Jedi (1983)  \n",
       "4                      Action|Adventure|Sci-Fi  \n",
       "5                             Action|Drama|War  \n",
       "6                          Judgment Day (1991)  \n",
       "7                       Action|Sci-Fi|Thriller  \n",
       "8                                Comedy|Sci-Fi  \n",
       "9                               Drama|Thriller  "
      ]
     },
     "execution_count": 47,
     "metadata": {},
     "output_type": "execute_result"
    }
   ],
   "source": [
    "movies_frequency_pdf.head(10)"
   ]
  },
  {
   "cell_type": "markdown",
   "metadata": {},
   "source": [
    "---\n",
    "## SQL"
   ]
  },
  {
   "cell_type": "code",
   "execution_count": 48,
   "metadata": {},
   "outputs": [],
   "source": [
    "ratings_df.createTempView('ratings')\n",
    "movies_df.createTempView('movies')"
   ]
  },
  {
   "cell_type": "code",
   "execution_count": 49,
   "metadata": {},
   "outputs": [
    {
     "name": "stdout",
     "output_type": "stream",
     "text": [
      "+--------+--------+--------------------+\n",
      "|movie_id|count(1)|               title|\n",
      "+--------+--------+--------------------+\n",
      "|     318|    2227|Shawshank Redempt...|\n",
      "|     356|    2194| Forrest Gump (1994)|\n",
      "|     296|    2171| Pulp Fiction (1994)|\n",
      "|     377|    1650|        Speed (1994)|\n",
      "|     223|    1412|       Clerks (1994)|\n",
      "|     380|    1400|    True Lies (1994)|\n",
      "|     357|    1233|Four Weddings and...|\n",
      "|     367|    1179|    Mask, The (1994)|\n",
      "|     364|    1121|Lion King, The (1...|\n",
      "|     316|    1116|     Stargate (1994)|\n",
      "|     349|    1059|Clear and Present...|\n",
      "|     235|     927|      Ed Wood (1994)|\n",
      "|     368|     802|     Maverick (1994)|\n",
      "|     253|     738|Interview with th...|\n",
      "|     353|     734|    Crow, The (1994)|\n",
      "|     246|     716|  Hoop Dreams (1994)|\n",
      "|     266|     705|Legends of the Fa...|\n",
      "|     300|     705|    Quiz Show (1994)|\n",
      "|     288|     700|Natural Born Kill...|\n",
      "|     231|     660|Dumb & Dumber (1994)|\n",
      "+--------+--------+--------------------+\n",
      "only showing top 20 rows\n",
      "\n"
     ]
    }
   ],
   "source": [
    "query = \"\"\"\n",
    "    SELECT movie_id, COUNT(*), first(title) as title\n",
    "    FROM ratings INNER JOIN movies ON ratings.movie_id == movies.movieId\n",
    "    WHERE movies.title LIKE '%(1994)%'\n",
    "    GROUP BY movie_id\n",
    "    ORDER BY COUNT(*) DESC\n",
    "\"\"\"\n",
    "\n",
    "movies_frequency = spark.sql(query)\n",
    "movies_frequency.show()"
   ]
  },
  {
   "cell_type": "code",
   "execution_count": 50,
   "metadata": {
    "scrolled": false
   },
   "outputs": [
    {
     "name": "stdout",
     "output_type": "stream",
     "text": [
      "== Parsed Logical Plan ==\n",
      "'Sort ['COUNT(1) DESC NULLS LAST], true\n",
      "+- 'Aggregate ['movie_id], ['movie_id, unresolvedalias('COUNT(1), None), first('title, false) AS title#183]\n",
      "   +- 'Filter 'movies.title LIKE %(1994)%\n",
      "      +- 'Join Inner, ('ratings.movie_id = 'movies.movieId)\n",
      "         :- 'UnresolvedRelation `ratings`\n",
      "         +- 'UnresolvedRelation `movies`\n",
      "\n",
      "== Analyzed Logical Plan ==\n",
      "movie_id: bigint, count(1): bigint, title: string\n",
      "Project [movie_id#52L, count(1)#186L, title#183]\n",
      "+- Sort [count(1)#186L DESC NULLS LAST], true\n",
      "   +- Aggregate [movie_id#52L], [movie_id#52L, count(1) AS count(1)#186L, first(title#83, false) AS title#183]\n",
      "      +- Filter title#83 LIKE %(1994)%\n",
      "         +- Join Inner, (movie_id#52L = cast(movieId#82 as bigint))\n",
      "            :- SubqueryAlias `ratings`\n",
      "            :  +- LogicalRDD [movie_id#52L, rating#53, timestamp#54L, user_id#55L], false\n",
      "            +- SubqueryAlias `movies`\n",
      "               +- Relation[movieId#82,title#83,genres#84] csv\n",
      "\n",
      "== Optimized Logical Plan ==\n",
      "Sort [count(1)#186L DESC NULLS LAST], true\n",
      "+- Aggregate [movie_id#52L], [movie_id#52L, count(1) AS count(1)#186L, first(title#83, false) AS title#183]\n",
      "   +- Project [movie_id#52L, title#83]\n",
      "      +- Join Inner, (movie_id#52L = cast(movieId#82 as bigint))\n",
      "         :- Project [movie_id#52L]\n",
      "         :  +- Filter isnotnull(movie_id#52L)\n",
      "         :     +- LogicalRDD [movie_id#52L, rating#53, timestamp#54L, user_id#55L], false\n",
      "         +- Project [movieId#82, title#83]\n",
      "            +- Filter ((isnotnull(title#83) && Contains(title#83, (1994))) && isnotnull(movieId#82))\n",
      "               +- Relation[movieId#82,title#83,genres#84] csv\n",
      "\n",
      "== Physical Plan ==\n",
      "*(4) Sort [count(1)#186L DESC NULLS LAST], true, 0\n",
      "+- Exchange rangepartitioning(count(1)#186L DESC NULLS LAST, 200)\n",
      "   +- SortAggregate(key=[movie_id#52L], functions=[count(1), first(title#83, false)], output=[movie_id#52L, count(1)#186L, title#183])\n",
      "      +- *(3) Sort [movie_id#52L ASC NULLS FIRST], false, 0\n",
      "         +- Exchange hashpartitioning(movie_id#52L, 200)\n",
      "            +- SortAggregate(key=[movie_id#52L], functions=[partial_count(1), partial_first(title#83, false)], output=[movie_id#52L, count#194L, first#195, valueSet#196])\n",
      "               +- *(2) Sort [movie_id#52L ASC NULLS FIRST], false, 0\n",
      "                  +- *(2) Project [movie_id#52L, title#83]\n",
      "                     +- *(2) BroadcastHashJoin [movie_id#52L], [cast(movieId#82 as bigint)], Inner, BuildRight\n",
      "                        :- *(2) Project [movie_id#52L]\n",
      "                        :  +- *(2) Filter isnotnull(movie_id#52L)\n",
      "                        :     +- Scan ExistingRDD[movie_id#52L,rating#53,timestamp#54L,user_id#55L]\n",
      "                        +- BroadcastExchange HashedRelationBroadcastMode(List(cast(input[0, int, true] as bigint)))\n",
      "                           +- *(1) Project [movieId#82, title#83]\n",
      "                              +- *(1) Filter ((isnotnull(title#83) && Contains(title#83, (1994))) && isnotnull(movieId#82))\n",
      "                                 +- *(1) FileScan csv [movieId#82,title#83] Batched: false, Format: CSV, Location: InMemoryFileIndex[file:/workspace/data/datalens/data/ml-1m/movies.dat], PartitionFilters: [], PushedFilters: [IsNotNull(title), StringContains(title,(1994)), IsNotNull(movieId)], ReadSchema: struct<movieId:int,title:string>\n"
     ]
    }
   ],
   "source": [
    "spark.sql(query).explain(True)"
   ]
  },
  {
   "cell_type": "markdown",
   "metadata": {},
   "source": [
    "---\n",
    "## User Defined Function (UDF)\n",
    "\n",
    "\n",
    "### Количество вышедших фильмов по годам\n",
    "\n",
    "Мы знаем, что название фильма содержит информацию о дате выхода"
   ]
  },
  {
   "cell_type": "code",
   "execution_count": 51,
   "metadata": {},
   "outputs": [],
   "source": [
    "import re\n",
    "\n",
    "\n",
    "def get_release_year(title):\n",
    "    result = re.match(r'.*(\\(\\d+\\))', title)\n",
    "    return int(result.group(1)[1:-1]) if result is not None else None\n",
    "\n",
    "\n",
    "get_release_year_udf = F.udf(get_release_year, IntegerType())"
   ]
  },
  {
   "cell_type": "code",
   "execution_count": 52,
   "metadata": {},
   "outputs": [],
   "source": [
    "relase_count_by_year = movies_df \\\n",
    "    .withColumn('year', get_release_year_udf('title')) \\\n",
    "    .filter(F.col('year').isNotNull()) \\\n",
    "    .groupby('year') \\\n",
    "    .count() \\\n",
    "    .sort(F.col('year'))\\\n",
    "    .toPandas()"
   ]
  },
  {
   "cell_type": "code",
   "execution_count": 53,
   "metadata": {},
   "outputs": [
    {
     "data": {
      "image/png": "[encoded data removed]",
      "text/plain": [
       "<Figure size 864x360 with 1 Axes>"
      ]
     },
     "metadata": {
      "image/png": {
       "height": 317,
       "width": 723
      },
      "needs_background": "light"
     },
     "output_type": "display_data"
    }
   ],
   "source": [
    "plt.figure(figsize=(12, 5))\n",
    "relase_count_by_year.set_index('year')['count'].plot()\n",
    "plt.show()"
   ]
  },
  {
   "cell_type": "markdown",
   "metadata": {},
   "source": [
    "---\n",
    "## Window Functions\n",
    "\n",
    "Хотим понять, сколько времени проходит между последовательными оценками для пользователей, более формально:\n",
    "\n",
    "Для пользователя $u$ есть последовательность $(m_1, r_1, t_1), \\ldots, (m_n, r_n, t_n)$, где $t_i \\leq t_{i+1}$. Рассмотрим последовательность $\\Delta_i = t_{i+1} - t_i$, для $i=1,\\ldots,n-1$.\n",
    "\n",
    "Хотим построить распределение величины $\\Delta_i$ используя информацию обо всех пользователях."
   ]
  },
  {
   "cell_type": "code",
   "execution_count": 54,
   "metadata": {},
   "outputs": [
    {
     "data": {
      "text/plain": [
       "[Row(movie_id=593, rating=3.0, timestamp=978130429, user_id=26, next_timestamp=978130465),\n",
       " Row(movie_id=2915, rating=4.0, timestamp=978130465, user_id=26, next_timestamp=978130485),\n",
       " Row(movie_id=511, rating=5.0, timestamp=978130485, user_id=26, next_timestamp=978130485),\n",
       " Row(movie_id=480, rating=4.0, timestamp=978130485, user_id=26, next_timestamp=978130684),\n",
       " Row(movie_id=3249, rating=3.0, timestamp=978130684, user_id=26, next_timestamp=978130703),\n",
       " Row(movie_id=1, rating=3.0, timestamp=978130703, user_id=26, next_timestamp=978130703),\n",
       " Row(movie_id=318, rating=4.0, timestamp=978130703, user_id=26, next_timestamp=978130715),\n",
       " Row(movie_id=2858, rating=4.0, timestamp=978130715, user_id=26, next_timestamp=978130729),\n",
       " Row(movie_id=1704, rating=5.0, timestamp=978130729, user_id=26, next_timestamp=978130782),\n",
       " Row(movie_id=337, rating=1.0, timestamp=978130782, user_id=26, next_timestamp=978130782)]"
      ]
     },
     "execution_count": 54,
     "metadata": {},
     "output_type": "execute_result"
    }
   ],
   "source": [
    "from pyspark.sql.window import Window\n",
    "\n",
    "\n",
    "user_window = Window.orderBy('timestamp').partitionBy('user_id')\n",
    "\n",
    "ratings_df \\\n",
    "    .withColumn('next_timestamp', F.lead('timestamp').over(user_window)) \\\n",
    "    .filter(F.col('next_timestamp').isNotNull()) \\\n",
    "    .take(10)"
   ]
  },
  {
   "cell_type": "code",
   "execution_count": 55,
   "metadata": {},
   "outputs": [
    {
     "data": {
      "text/plain": [
       "<matplotlib.axes._subplots.AxesSubplot at 0x7fbe7209b7f0>"
      ]
     },
     "execution_count": 55,
     "metadata": {},
     "output_type": "execute_result"
    },
    {
     "data": {
      "image/png": "[encoded data removed]",
      "text/plain": [
       "<Figure size 432x288 with 1 Axes>"
      ]
     },
     "metadata": {
      "image/png": {
       "height": 250,
       "width": 389
      },
      "needs_background": "light"
     },
     "output_type": "display_data"
    }
   ],
   "source": [
    "DAY = 24 * 60 * 60\n",
    "\n",
    "ratings_df \\\n",
    "    .withColumn('next_timestamp', F.lead('timestamp').over(user_window)) \\\n",
    "    .filter(F.col('next_timestamp').isNotNull()) \\\n",
    "    .withColumn('delta', (F.col('next_timestamp') - F.col('timestamp')) / F.lit(DAY)) \\\n",
    "    .select('delta') \\\n",
    "    .filter(F.col('delta') <= 365) \\\n",
    "    .sample(False, 0.1) \\\n",
    "    .toPandas().plot.hist(bins=100, logy=True)"
   ]
  },
  {
   "cell_type": "code",
   "execution_count": null,
   "metadata": {},
   "outputs": [],
   "source": []
  },
  {
   "cell_type": "markdown",
   "metadata": {},
   "source": [
    "---\n",
    "# Упражнения. Recommender System\n",
    "\n",
    "Пусть $U$ - множество пользователей, $I$ - множество фильмов, и $R = (r_{ui})$ - матрица рейтингов. \n",
    "\n",
    "Через $R_u$ будем обозначать строку матрицы $R$, соотвествующую пользователю $u$.\n",
    "\n",
    "## Most similar items\n",
    "\n",
    "Для каждого фильма $i$ определим множество $U(i) = \\{ u \\in U \\mid r_{ui} \\neq 0 \\}$ - множество пользователей, поставивших фильму $i$ оценку.\n",
    "\n",
    "Тогда мы можем определить множество $I(i) = \\left\\{ i' \\in I ~\\Big|~ sim(i, i') = \\frac{|U(i) ~\\cap~ U(i')|}{|U(i) ~\\cup~ U(i')|} > \\delta \\right\\}$ - множество похожих фильмов.\n",
    "\n",
    "Можно отсортировать элементы множества $I(i)$ по неубыванию $sim(i, i')$.\n",
    "\n",
    "Реализуйте функцию, которая на вход получает `movie_id` и возвращает топ `N` фильмов отранжированных по $sim$."
   ]
  },
  {
   "cell_type": "code",
   "execution_count": null,
   "metadata": {},
   "outputs": [],
   "source": [
    "# Тут я еще возвращаю сам фильм. Эту строку можно фильтрануть, но мне так просто намного удобнее было дебагать\n",
    "# и быть +- уверенным, что все нормально отработало"
   ]
  },
  {
   "cell_type": "code",
   "execution_count": 148,
   "metadata": {},
   "outputs": [],
   "source": [
    "def top_sim(base_movie_id, n):\n",
    "    rated_base_movie_df = ratings_df \\\n",
    "            .select(['user_id', 'movie_id']) \\\n",
    "            .withColumn('rated_base', (F.col('movie_id') == F.lit(base_movie_id)).cast('integer')) \\\n",
    "            .select(['user_id', 'rated_base']) \\\n",
    "            .groupby('user_id') \\\n",
    "            .agg(F.max('rated_base').alias('rated_base'))\n",
    "    \n",
    "    base_movie_U = rated_base_movie_df.select('rated_base').groupBy().sum().collect()[0][0]\n",
    "    \n",
    "    return ratings_df \\\n",
    "            .select(['movie_id', 'user_id']) \\\n",
    "            .join(rated_base_movie_df, on='user_id') \\\n",
    "            .groupby('movie_id') \\\n",
    "            .agg(F.count('user_id').alias('U_i'), F.sum('rated_base').alias('cap')) \\\n",
    "            .sort(F.col('cap').desc()) \\\n",
    "            .withColumn('sim', F.col('cap') / (F.col('U_i') + F.lit(base_movie_U) - F.col('cap'))) \\\n",
    "            .select(['movie_id', 'sim']) \\\n",
    "            .join(movies_df, movies_df['movieId'] == F.col('movie_id')) \\\n",
    "            .select(['sim', 'movie_id', 'title']) \\\n",
    "            .sort(F.col('sim').desc()) \\\n",
    "            .limit(n + 1)"
   ]
  },
  {
   "cell_type": "code",
   "execution_count": 149,
   "metadata": {},
   "outputs": [
    {
     "name": "stdout",
     "output_type": "stream",
     "text": [
      "+-------------------+--------+--------------------+\n",
      "|                sim|movie_id|               title|\n",
      "+-------------------+--------+--------------------+\n",
      "|                1.0|     356| Forrest Gump (1994)|\n",
      "|0.46382978723404256|    1265|Groundhog Day (1993)|\n",
      "|0.40354912914886626|       1|    Toy Story (1995)|\n",
      "| 0.4033214709371293|    1580| Men in Black (1997)|\n",
      "|0.38514548238897395|    1784|As Good As It Get...|\n",
      "|0.38023692574400464|    1270|Back to the Futur...|\n",
      "|  0.377771461057419|    2028|Saving Private Ry...|\n",
      "| 0.3770869314910766|    2571|  Matrix, The (1999)|\n",
      "|0.37652681890600104|    1196|           Star Wars|\n",
      "| 0.3758052970651396|     377|        Speed (1994)|\n",
      "| 0.3752462245567958|     457|Fugitive, The (1993)|\n",
      "+-------------------+--------+--------------------+\n",
      "\n"
     ]
    }
   ],
   "source": [
    "top_sim(356, 10).show() # Forrest Gump 356"
   ]
  },
  {
   "cell_type": "markdown",
   "metadata": {},
   "source": [
    "Построим несколько вариантов простой Рекомендательной Системы.\n",
    "\n",
    "*Основная цель:* порекомендовать фильм пользователю. (Для простоты опустим информацию о самих рейтингах)\n",
    "\n",
    "## Methods\n",
    "\n",
    "При разработке сложных методов, сначала нужно выбрать несколько простотых методов (`Baseline`), относительно которых мы будем сравнивать новый метод.\n",
    "\n",
    "### POP\n",
    "\n",
    "Будем всегда рекомендовать самые популярные фильмы (с наибольшим цислом оценок пользователей).\n",
    "\n",
    "Не смотря на свою простоту, в ряде задач показывает себя достаточно хорошо."
   ]
  },
  {
   "cell_type": "code",
   "execution_count": 144,
   "metadata": {},
   "outputs": [],
   "source": [
    "def pop(n):\n",
    "    return ratings_df \\\n",
    "        .select(['movie_id', 'user_id']) \\\n",
    "        .groupby('movie_id') \\\n",
    "        .agg(F.count('user_id').alias('pop')) \\\n",
    "        .join(movies_df, movies_df['movieId'] == ratings_df['movie_id']) \\\n",
    "        .select(['pop', 'title', 'movie_id']) \\\n",
    "        .sort(F.col('pop').desc()) \\\n",
    "        .limit(n)"
   ]
  },
  {
   "cell_type": "code",
   "execution_count": 145,
   "metadata": {},
   "outputs": [
    {
     "name": "stdout",
     "output_type": "stream",
     "text": [
      "+----+--------------------+--------+\n",
      "| pop|               title|movie_id|\n",
      "+----+--------------------+--------+\n",
      "|3428|American Beauty (...|    2858|\n",
      "|2991|           Star Wars|     260|\n",
      "|2990|           Star Wars|    1196|\n",
      "|2883|           Star Wars|    1210|\n",
      "|2672|Jurassic Park (1993)|     480|\n",
      "|2653|Saving Private Ry...|    2028|\n",
      "|2649|        Terminator 2|     589|\n",
      "|2590|  Matrix, The (1999)|    2571|\n",
      "|2583|Back to the Futur...|    1270|\n",
      "|2578|Silence of the La...|     593|\n",
      "+----+--------------------+--------+\n",
      "\n"
     ]
    }
   ],
   "source": [
    "pop(10).show()"
   ]
  },
  {
   "cell_type": "markdown",
   "metadata": {},
   "source": [
    "### User-based Collaborative Filtering\n",
    "\n",
    "1. Для пользователя $u$ определим множество похожих пользователей как \n",
    "\n",
    "$$U(u) = \\left\\{ u' \\in U \\mid sim(u, u') > \\alpha \\right\\},$$\n",
    "\n",
    "где $sim(u, u')$ — одна из возможных мер близости $u'$ к $u$, например, косинусная близость между $R_{u}$ и $R_{u'}$\n",
    "\n",
    "2. $$I(u) = \\left\\{ i \\in I ~\\Big|~ B(i) = \\frac{|U(u) ~\\cap~ U(i)|}{|U(u) ~\\cup~ U(i)|} > 0 \\right\\}$$\n",
    "\n",
    "\n",
    "3. Отсортировать $i \\in I(u)$ по убыванию $B(i)$, взять top $N$"
   ]
  },
  {
   "cell_type": "code",
   "execution_count": null,
   "metadata": {},
   "outputs": [],
   "source": [
    "######################################\n",
    "######### YOUR CODE HERE #############\n",
    "######################################"
   ]
  },
  {
   "cell_type": "markdown",
   "metadata": {},
   "source": [
    "### Item-kNN\n",
    "\n",
    "1. Для пользователя $u$ мы знаем $R(u) = \\{ i \\in I \\mid r_{ui} \\neq 0 \\} $\n",
    "\n",
    "\n",
    "2. Для каждого $i \\in R(u)$ построим $I(i)$ - множество похожих фильмов\n",
    "\n",
    "\n",
    "3. Отсортируем элементы множества $ \\bigcup_{i \\in R(u)} I(i) $, возьмем top $N$"
   ]
  },
  {
   "cell_type": "code",
   "execution_count": null,
   "metadata": {},
   "outputs": [],
   "source": [
    "# Не придумал как делать нормально. Весь код ниже -- просто так оставил, он совсем неправильный"
   ]
  },
  {
   "cell_type": "code",
   "execution_count": 187,
   "metadata": {},
   "outputs": [],
   "source": [
    "# Я не хочу строить огромную таблицу попарных похожестей movie x movie\n",
    "# а использовать создвать udf, которые сами внутри себя юзают спарк нельзя\n",
    "# поэтому такое корявое решение, хз как сделать лучше\n",
    "\n",
    "def item_knn(u, I, n):\n",
    "    movies = list(map(lambda x: x[0], ratings_df \\\n",
    "        .filter(F.col('user_id') == F.lit(u)) \\\n",
    "        .select('movie_id') \\\n",
    "        .collect()))\n",
    "    \n",
    "    m_sim = [kv for m in movies for kv in I(m, n)]\n",
    "    \n",
    "    return sorted(m_sim, key=lambda kv: -kv[1])[:n]"
   ]
  },
  {
   "cell_type": "code",
   "execution_count": null,
   "metadata": {},
   "outputs": [],
   "source": [
    "# just checking that it works...\n",
    "\n",
    "# first, define I\n",
    "I = lambda movie_id, n: list(map(lambda x: (x[0], x[1]), top_sim(movie_id, n).select(['movie_id', 'sim']).rdd.collect()[:5]))\n",
    "# I(356, 10)\n",
    "\n",
    "# now run item_knn\n",
    "item_knn(123, I, 10).show()"
   ]
  },
  {
   "cell_type": "markdown",
   "metadata": {},
   "source": [
    "## Evaluation Protocol\n",
    "\n",
    "Теперь опишем, как будем оценивать качество рассматриваемых методов.\n",
    "\n",
    "### Data Splits\n",
    "\n",
    "Так как в данных `ratings` есть поле `timestamp`, то для каждого пользователя отсортируем его рейтинги по времени и первые $80\\%$ рейтингов отнесем в `Train`, еще $10\\%$ в `Validation`, и остальное в `Test`.\n"
   ]
  },
  {
   "cell_type": "code",
   "execution_count": 77,
   "metadata": {},
   "outputs": [],
   "source": [
    "def train_val_test(a, b):\n",
    "    N = ratings_df.count()\n",
    "    n_train = a / 100 * N\n",
    "    n_val = n_train + b / 100 * N\n",
    "\n",
    "    row_window = Window.orderBy('timestamp')\n",
    "\n",
    "    tmp_df = ratings_df \\\n",
    "        .sort('timestamp') \\\n",
    "        .withColumn('row_number',  F.row_number().over(row_window))\n",
    "    \n",
    "    train = tmp_df.filter(F.col('row_number') < n_train)\n",
    "    val = tmp_df.filter(F.col('row_number') > n_train).filter(F.col('row_number') < n_val)\n",
    "    test = tmp_df.filter(F.col('row_number') >= n_val)\n",
    "    \n",
    "    return (train, val, test)"
   ]
  },
  {
   "cell_type": "code",
   "execution_count": 78,
   "metadata": {},
   "outputs": [],
   "source": [
    "train, val, test = train_val_test(80, 10)"
   ]
  },
  {
   "cell_type": "markdown",
   "metadata": {},
   "source": [
    "### Metrics\n",
    "\n",
    "В `Test` для каждого пользователя есть `user_id, R_u`, где $R_u$ - множество фильмов, которым он поставил оценку. Для того чтобы оценить качество рассматриваемых методов будем для пользователя строить список из $N$ рекомендаций $\\hat{R}_{1\\colon N}$ и считать метрики.\n",
    "\n",
    "* $$ Precision@N = \\frac{|R_u \\cap \\hat{R}_{1\\colon N} |}{N} $$\n",
    "* $$ Recall@N = \\frac{|R_u \\cap \\hat{R}_{1\\colon N} |}{|R_u|} $$\n",
    "* $Map@N$\n",
    "\n",
    "где $N \\in \\{1,5,10\\}$\n",
    "\n",
    "https://spark.apache.org/docs/latest/mllib-evaluation-metrics.html#ranking-systems"
   ]
  },
  {
   "cell_type": "code",
   "execution_count": null,
   "metadata": {},
   "outputs": [],
   "source": [
    "######################################\n",
    "######### YOUR CODE HERE #############\n",
    "######################################"
   ]
  },
  {
   "cell_type": "markdown",
   "metadata": {},
   "source": [
    "## Experimental Results\n",
    "\n",
    "Посмотрим на результаты\n",
    "\n",
    "*Remark* скорее всего посчитать метрики для всех пользователей будет довольно долго - можно ограничится, например, случайными 10к пользователями"
   ]
  },
  {
   "cell_type": "code",
   "execution_count": null,
   "metadata": {},
   "outputs": [],
   "source": [
    "######################################\n",
    "######### YOUR CODE HERE #############\n",
    "######################################"
   ]
  }
 ],
 "metadata": {
  "kernelspec": {
   "display_name": "Python 3",
   "language": "python",
   "name": "python3"
  },
  "language_info": {
   "codemirror_mode": {
    "name": "ipython",
    "version": 3
   },
   "file_extension": ".py",
   "mimetype": "text/x-python",
   "name": "python",
   "nbconvert_exporter": "python",
   "pygments_lexer": "ipython3",
   "version": "3.5.6"
  },
  "toc": {
   "base_numbering": 1,
   "nav_menu": {
    "height": "431.997px",
    "width": "329.514px"
   },
   "number_sections": true,
   "sideBar": true,
   "skip_h1_title": false,
   "title_cell": "Table of Contents",
   "title_sidebar": "Contents",
   "toc_cell": false,
   "toc_position": {
    "height": "calc(100% - 180px)",
    "left": "10px",
    "top": "150px",
    "width": "321.545px"
   },
   "toc_section_display": true,
   "toc_window_display": true
  }
 },
 "nbformat": 4,
 "nbformat_minor": 2
}
